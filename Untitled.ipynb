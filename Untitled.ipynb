{
 "cells": [
  {
   "cell_type": "markdown",
   "id": "92431c2e",
   "metadata": {},
   "source": [
    "## HOLA  👋\n"
   ]
  },
  {
   "cell_type": "markdown",
   "id": "4638173d",
   "metadata": {},
   "source": [
    "# Mi nombre es Mario Manuel Maxi Churata "
   ]
  },
  {
   "cell_type": "markdown",
   "id": "e1236c18",
   "metadata": {},
   "source": [
    "# Bienbenidos a mi Portafolio en el cual presentare mis trabajos durante mis dias como universitario."
   ]
  },
  {
   "cell_type": "code",
   "execution_count": null,
   "id": "6cd8b3c1",
   "metadata": {},
   "outputs": [],
   "source": []
  }
 ],
 "metadata": {
  "kernelspec": {
   "display_name": "Python 3 (ipykernel)",
   "language": "python",
   "name": "python3"
  },
  "language_info": {
   "codemirror_mode": {
    "name": "ipython",
    "version": 3
   },
   "file_extension": ".py",
   "mimetype": "text/x-python",
   "name": "python",
   "nbconvert_exporter": "python",
   "pygments_lexer": "ipython3",
   "version": "3.8.13"
  }
 },
 "nbformat": 4,
 "nbformat_minor": 5
}
